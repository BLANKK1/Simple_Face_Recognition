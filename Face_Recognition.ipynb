{
 "cells": [
  {
   "cell_type": "code",
   "execution_count": null,
   "id": "125baccb",
   "metadata": {},
   "outputs": [],
   "source": [
    "#Importing important libraries \n",
    "import cv2\n",
    "import os"
   ]
  },
  {
   "cell_type": "code",
   "execution_count": null,
   "id": "085bd238",
   "metadata": {},
   "outputs": [],
   "source": [
    "pip install opencv-python"
   ]
  },
  {
   "cell_type": "code",
   "execution_count": null,
   "id": "ae6a012d",
   "metadata": {},
   "outputs": [],
   "source": [
    "#Opens the camera\n",
    "video = cv2.VideoCapture(0)\n",
    "#used to detect the face\n",
    "facedetect = cv2.CascadeClassifier(cv2.data.haarcascades +\"haarcascade_frontalface_default.xml\")\n",
    "count = 0\n",
    "nameID = str(input(\"Enter your name : \")).lower()\n",
    "path = 'images/'+nameID\n",
    "isExist = os.path.exists(path)\n",
    "\n",
    "if isExist:\n",
    "    print(\"Name already Taken\")\n",
    "    nameID=str(input(\"Enter Your Name Again: \"))\n",
    "else:\n",
    "    os.makedirs(path)\n",
    "#saves images in in the images folder\n",
    "while True:\n",
    "    ret,frame = video.read()\n",
    "    faces = facedetect.detectMultiScale(frame,1.3,5)\n",
    "    for x,y,w,h in faces:\n",
    "        count+=1\n",
    "        name='./images/'+nameID+'/'+str(count)+'.jpg'\n",
    "        print(\"Creating Images........\"+name)\n",
    "        cv2.imwrite(name, frame[y:y+h, x:x+w])\n",
    "        cv2.rectangle(frame, (x,y), (x+w, y+h), (0,255,0), 3)\n",
    "    cv2.imshow(\"WindowFrame\", frame)\n",
    "    cv2.waitKey(1)\n",
    "    if count>400:\n",
    "        break\n",
    "video.release()\n",
    "cv2.destroyAllWindows()"
   ]
  },
  {
   "cell_type": "markdown",
   "id": "4695442a",
   "metadata": {},
   "source": [
    "Pretrained Model"
   ]
  },
  {
   "cell_type": "code",
   "execution_count": null,
   "id": "bd16fb50",
   "metadata": {},
   "outputs": [],
   "source": [
    "## import tensorflow as tf\n",
    "from tensorflow import keras\n",
    "from keras.models import load_model  # TensorFlow is required for Keras to work\n",
    "import cv2  # Install opencv-python\n",
    "import numpy as np\n",
    "\n",
    "# Disable scientific notation for clarity\n",
    "np.set_printoptions(suppress=True)\n",
    "\n",
    "# Load the model\n",
    "model = load_model(\"keras_Model.h5\", compile=False)\n",
    "\n",
    "# Load the labels\n",
    "class_names = open(\"labels.txt\", \"r\").readlines()\n",
    "\n",
    "# CAMERA can be 0 or 1 based on default camera of your computer\n",
    "camera = cv2.VideoCapture(0)\n",
    "\n",
    "while True:\n",
    "    # Grab the webcamera's image.\n",
    "    ret, image = camera.read()\n",
    "\n",
    "    # Resize the raw image into (224-height,224-width) pixels\n",
    "    image = cv2.resize(image, (224, 224), interpolation=cv2.INTER_AREA)\n",
    "\n",
    "    # Show the image in a window\n",
    "    cv2.imshow(\"Webcam Image\", image)\n",
    "\n",
    "    # Make the image a numpy array and reshape it to the models input shape.\n",
    "    image = np.asarray(image, dtype=np.float32).reshape(1, 224, 224, 3)\n",
    "\n",
    "    # Normalize the image array\n",
    "    image = (image / 127.5) - 1\n",
    "\n",
    "    # Predicts the model\n",
    "    prediction = model.predict(image)\n",
    "    index = np.argmax(prediction)\n",
    "    class_name = class_names[index]\n",
    "    confidence_score = prediction[0][index]\n",
    "\n",
    "    # Print prediction and confidence score\n",
    "    print(\"Class:\", class_name[2:], end=\"\")\n",
    "    print(\"Confidence Score:\", str(np.round(confidence_score * 100))[:-2], \"%\")\n",
    "\n",
    "    # Listen to the keyboard for presses.\n",
    "    keyboard_input = cv2.waitKey(1)\n",
    "\n",
    "    # 27 is the ASCII for the esc key on your keyboard.\n",
    "    if keyboard_input == 27:\n",
    "        break\n",
    "\n",
    "camera.release()\n",
    "cv2.destroyAllWindows()\n"
   ]
  },
  {
   "cell_type": "code",
   "execution_count": null,
   "id": "294ba848",
   "metadata": {},
   "outputs": [],
   "source": []
  }
 ],
 "metadata": {
  "kernelspec": {
   "display_name": "Python 3 (ipykernel)",
   "language": "python",
   "name": "python3"
  },
  "language_info": {
   "codemirror_mode": {
    "name": "ipython",
    "version": 3
   },
   "file_extension": ".py",
   "mimetype": "text/x-python",
   "name": "python",
   "nbconvert_exporter": "python",
   "pygments_lexer": "ipython3",
   "version": "3.9.12"
  }
 },
 "nbformat": 4,
 "nbformat_minor": 5
}
